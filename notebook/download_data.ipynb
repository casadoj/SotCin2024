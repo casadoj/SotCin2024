{
 "cells": [
  {
   "cell_type": "code",
   "execution_count": null,
   "id": "9fef2691-0f99-48c8-aefe-9a2a5e83c5bb",
   "metadata": {
    "tags": []
   },
   "outputs": [
    {
     "name": "stderr",
     "output_type": "stream",
     "text": [
      "2025-01-24 08:55:15,901 INFO [2024-09-26T00:00:00] Welcome to the New [CEMS](https://emergency.copernicus.eu/) [Early Warning Data Store (EWDS)](https://ewds-beta.climate.copernicus.eu/)! This new system is in its early days of full operations and still undergoing enhancements and fine tuning. Some disruptions are to be expected. Your [feedback](https://jira.ecmwf.int/plugins/servlet/desk/portal/1/create/202) is key to improve the user experience on the new EWDS for the benefit of everyone. Thank you.\n",
      "2025-01-24 08:55:15,901 INFO [2024-09-26T00:00:00] Watch our [Forum]( https://forum.ecmwf.int/) for Announcements, news and other discussed topics.\n"
     ]
    },
    {
     "data": {
      "application/vnd.jupyter.widget-view+json": {
       "model_id": "9aba0384690141dfb3bd525d9ec11c9c",
       "version_major": 2,
       "version_minor": 0
      },
      "text/plain": [
       "year:   0%|          | 0/34 [00:00<?, ?it/s]"
      ]
     },
     "metadata": {},
     "output_type": "display_data"
    },
    {
     "name": "stderr",
     "output_type": "stream",
     "text": [
      "2025-01-24 08:55:16,193 INFO [2024-02-01T00:00:00] Please note that accessing this dataset via CDS for time-critical operation is not advised or supported\n",
      "2025-01-24 08:55:16,193 INFO [2024-02-01T00:00:00] Please note we suggest checking the list of known issues on the GloFAS wiki\n",
      "[here](https://confluence.ecmwf.int/display/CEMS/GloFAS+-+Known+Issues)\n",
      "before downloading the dataset.\n",
      "2025-01-24 08:55:16,193 INFO Request ID is af954721-18bd-4012-96d2-1ca5367d882c\n",
      "2025-01-24 08:55:16,264 INFO status has been updated to accepted\n",
      "2025-01-24 08:55:24,615 INFO status has been updated to running\n",
      "2025-01-24 08:55:29,721 INFO status has been updated to successful\n"
     ]
    },
    {
     "data": {
      "application/vnd.jupyter.widget-view+json": {
       "model_id": "",
       "version_major": 2,
       "version_minor": 0
      },
      "text/plain": [
       "316a572fe30fe3cbb027e9cf2866626f.nc:   0%|          | 0.00/3.42G [00:00<?, ?B/s]"
      ]
     },
     "metadata": {},
     "output_type": "display_data"
    },
    {
     "name": "stdout",
     "output_type": "stream",
     "text": [
      "Saved file: Z:\\nahaUsers\\casadje\\GloFASv4\\long_run\\discharge\\discharge_1991.nc\n"
     ]
    },
    {
     "name": "stderr",
     "output_type": "stream",
     "text": [
      "2025-01-24 08:57:19,994 INFO [2024-02-01T00:00:00] Please note that accessing this dataset via CDS for time-critical operation is not advised or supported\n",
      "2025-01-24 08:57:19,994 INFO [2024-02-01T00:00:00] Please note we suggest checking the list of known issues on the GloFAS wiki\n",
      "[here](https://confluence.ecmwf.int/display/CEMS/GloFAS+-+Known+Issues)\n",
      "before downloading the dataset.\n",
      "2025-01-24 08:57:19,994 INFO Request ID is 8c527f8c-d47e-4d07-bafe-46cd6e952c15\n",
      "2025-01-24 08:57:20,045 INFO status has been updated to accepted\n",
      "2025-01-24 08:57:33,517 INFO status has been updated to running\n",
      "2025-01-24 08:57:41,143 INFO status has been updated to successful\n"
     ]
    },
    {
     "data": {
      "application/vnd.jupyter.widget-view+json": {
       "model_id": "56e451855ae24ef6819ca61bab121240",
       "version_major": 2,
       "version_minor": 0
      },
      "text/plain": [
       "9b2e82243b28cc681db2dc608de21fa3.nc:   0%|          | 0.00/3.40G [00:00<?, ?B/s]"
      ]
     },
     "metadata": {},
     "output_type": "display_data"
    },
    {
     "name": "stderr",
     "output_type": "stream",
     "text": [
      "Recovering from connection error [HTTPSConnectionPool(host='object-store.os-api.cci2.ecmwf.int', port=443): Read timed out.], attemps 1 of 500\n",
      "Retrying in 120 seconds\n"
     ]
    },
    {
     "data": {
      "application/vnd.jupyter.widget-view+json": {
       "model_id": "",
       "version_major": 2,
       "version_minor": 0
      },
      "text/plain": [
       "9b2e82243b28cc681db2dc608de21fa3.nc:  98%|#########7| 3.32G/3.40G [00:00<?, ?B/s]"
      ]
     },
     "metadata": {},
     "output_type": "display_data"
    },
    {
     "name": "stdout",
     "output_type": "stream",
     "text": [
      "Saved file: Z:\\nahaUsers\\casadje\\GloFASv4\\long_run\\discharge\\discharge_1992.nc\n"
     ]
    },
    {
     "name": "stderr",
     "output_type": "stream",
     "text": [
      "2025-01-24 09:11:20,460 INFO [2024-02-01T00:00:00] Please note that accessing this dataset via CDS for time-critical operation is not advised or supported\n",
      "2025-01-24 09:11:20,460 INFO [2024-02-01T00:00:00] Please note we suggest checking the list of known issues on the GloFAS wiki\n",
      "[here](https://confluence.ecmwf.int/display/CEMS/GloFAS+-+Known+Issues)\n",
      "before downloading the dataset.\n",
      "2025-01-24 09:11:20,460 INFO Request ID is 111688f5-5678-4698-be92-10ab3a1fe9ab\n",
      "2025-01-24 09:11:20,510 INFO status has been updated to accepted\n",
      "2025-01-24 09:11:28,771 INFO status has been updated to successful\n"
     ]
    },
    {
     "data": {
      "application/vnd.jupyter.widget-view+json": {
       "model_id": "44c335d77b064315a53ae29c93ed5ee7",
       "version_major": 2,
       "version_minor": 0
      },
      "text/plain": [
       "963061efc8dc9cf547301dcf7a9db05b.nc:   0%|          | 0.00/3.44G [00:00<?, ?B/s]"
      ]
     },
     "metadata": {},
     "output_type": "display_data"
    },
    {
     "name": "stderr",
     "output_type": "stream",
     "text": [
      "Recovering from connection error [HTTPSConnectionPool(host='object-store.os-api.cci2.ecmwf.int', port=443): Read timed out.], attemps 1 of 500\n",
      "Retrying in 120 seconds\n"
     ]
    },
    {
     "data": {
      "application/vnd.jupyter.widget-view+json": {
       "model_id": "",
       "version_major": 2,
       "version_minor": 0
      },
      "text/plain": [
       "963061efc8dc9cf547301dcf7a9db05b.nc:  71%|#######1  | 2.45G/3.44G [00:00<?, ?B/s]"
      ]
     },
     "metadata": {},
     "output_type": "display_data"
    },
    {
     "name": "stdout",
     "output_type": "stream",
     "text": [
      "Saved file: Z:\\nahaUsers\\casadje\\GloFASv4\\long_run\\discharge\\discharge_1993.nc\n"
     ]
    },
    {
     "name": "stderr",
     "output_type": "stream",
     "text": [
      "2025-01-24 09:25:09,726 INFO [2024-02-01T00:00:00] Please note that accessing this dataset via CDS for time-critical operation is not advised or supported\n",
      "2025-01-24 09:25:09,726 INFO [2024-02-01T00:00:00] Please note we suggest checking the list of known issues on the GloFAS wiki\n",
      "[here](https://confluence.ecmwf.int/display/CEMS/GloFAS+-+Known+Issues)\n",
      "before downloading the dataset.\n",
      "2025-01-24 09:25:09,726 INFO Request ID is 90f0a196-025e-47ef-8eed-e30d82d6d46f\n",
      "2025-01-24 09:25:09,787 INFO status has been updated to accepted\n",
      "2025-01-24 09:25:23,220 INFO status has been updated to successful\n"
     ]
    },
    {
     "data": {
      "application/vnd.jupyter.widget-view+json": {
       "model_id": "",
       "version_major": 2,
       "version_minor": 0
      },
      "text/plain": [
       "2dc2e595b6b9367298d3017a6cfb3be0.nc:   0%|          | 0.00/3.42G [00:00<?, ?B/s]"
      ]
     },
     "metadata": {},
     "output_type": "display_data"
    },
    {
     "name": "stdout",
     "output_type": "stream",
     "text": [
      "Saved file: Z:\\nahaUsers\\casadje\\GloFASv4\\long_run\\discharge\\discharge_1994.nc\n"
     ]
    },
    {
     "name": "stderr",
     "output_type": "stream",
     "text": [
      "2025-01-24 09:26:57,542 INFO [2024-02-01T00:00:00] Please note that accessing this dataset via CDS for time-critical operation is not advised or supported\n",
      "2025-01-24 09:26:57,542 INFO [2024-02-01T00:00:00] Please note we suggest checking the list of known issues on the GloFAS wiki\n",
      "[here](https://confluence.ecmwf.int/display/CEMS/GloFAS+-+Known+Issues)\n",
      "before downloading the dataset.\n",
      "2025-01-24 09:26:57,542 INFO Request ID is 5347c42b-e4d5-4dcf-9fb7-5cc97552ea6a\n",
      "2025-01-24 09:26:57,593 INFO status has been updated to accepted\n",
      "2025-01-24 09:27:05,960 INFO status has been updated to successful\n"
     ]
    },
    {
     "data": {
      "application/vnd.jupyter.widget-view+json": {
       "model_id": "",
       "version_major": 2,
       "version_minor": 0
      },
      "text/plain": [
       "1a311b0964f854d9f75d694b1a422db5.nc:   0%|          | 0.00/3.39G [00:00<?, ?B/s]"
      ]
     },
     "metadata": {},
     "output_type": "display_data"
    },
    {
     "name": "stdout",
     "output_type": "stream",
     "text": [
      "Saved file: Z:\\nahaUsers\\casadje\\GloFASv4\\long_run\\discharge\\discharge_1995.nc\n"
     ]
    },
    {
     "name": "stderr",
     "output_type": "stream",
     "text": [
      "2025-01-24 09:28:44,689 INFO [2024-02-01T00:00:00] Please note that accessing this dataset via CDS for time-critical operation is not advised or supported\n",
      "2025-01-24 09:28:44,691 INFO [2024-02-01T00:00:00] Please note we suggest checking the list of known issues on the GloFAS wiki\n",
      "[here](https://confluence.ecmwf.int/display/CEMS/GloFAS+-+Known+Issues)\n",
      "before downloading the dataset.\n",
      "2025-01-24 09:28:44,691 INFO Request ID is f1efb26e-3805-45e1-8db4-f239877023dd\n",
      "2025-01-24 09:28:44,731 INFO status has been updated to accepted\n",
      "2025-01-24 09:28:59,232 INFO status has been updated to running\n"
     ]
    }
   ],
   "source": [
    "import cdsapi\n",
    "from pathlib import Path\n",
    "from tqdm.notebook import tqdm\n",
    "\n",
    "PATH = Path('Z:/nahaUsers/casadje/GloFASv4/long_run/')\n",
    "START = 1991\n",
    "END = 2024\n",
    "\n",
    "client = cdsapi.Client(timeout=600) #, quiet=False, debug=True)\n",
    "\n",
    "variables = {\n",
    "    'discharge': \"river_discharge_in_the_last_24_hours\",\n",
    "    # 'rowe': \"runoff_water_equivalent\"\n",
    "}\n",
    "\n",
    "dataset = \"cems-glofas-historical\"\n",
    "for year in tqdm(range(START, END + 1), desc='year'):\n",
    "    for folder, variable in variables.items():\n",
    "        path_var = PATH / folder\n",
    "        path_var.mkdir(parents=True, exist_ok=True)\n",
    "        out_file = path_var / f'{folder}_{year}.nc'\n",
    "        if out_file.is_file():\n",
    "            continue\n",
    "            print(f'File {out_file} already exists')\n",
    "        request = {\n",
    "            \"system_version\": [\"version_4_0\"],\n",
    "            \"hydrological_model\": [\"lisflood\"],\n",
    "            \"product_type\": [\"consolidated\"],\n",
    "            \"variable\": [\"runoff_water_equivalent\"],\n",
    "            \"hyear\": [f'{year}'],\n",
    "            \"hmonth\": [f'{month:02}' for month in range(1, 13)],\n",
    "            \"hday\": [f'{day:02}' for day in range(1, 32)],\n",
    "            \"data_format\": \"netcdf\",\n",
    "            \"download_format\": \"unarchived\"\n",
    "        }\n",
    "\n",
    "        client.retrieve(dataset, request).download(out_file)\n",
    "        print(f'Saved file: {out_file}')"
   ]
  },
  {
   "cell_type": "code",
   "execution_count": null,
   "id": "4cb9097d-bbb1-41ca-b6bb-ddd7ad7718f7",
   "metadata": {},
   "outputs": [],
   "source": []
  }
 ],
 "metadata": {
  "kernelspec": {
   "display_name": "Python 3 (ipykernel)",
   "language": "python",
   "name": "python3"
  },
  "language_info": {
   "codemirror_mode": {
    "name": "ipython",
    "version": 3
   },
   "file_extension": ".py",
   "mimetype": "text/x-python",
   "name": "python",
   "nbconvert_exporter": "python",
   "pygments_lexer": "ipython3",
   "version": "3.9.13"
  }
 },
 "nbformat": 4,
 "nbformat_minor": 5
}
