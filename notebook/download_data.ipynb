{
 "cells": [
  {
   "cell_type": "code",
   "execution_count": null,
   "id": "9fef2691-0f99-48c8-aefe-9a2a5e83c5bb",
   "metadata": {
    "tags": []
   },
   "outputs": [],
   "source": [
    "import cdsapi\n",
    "from pathlib import Path\n",
    "from tqdm.notebook import tqdm\n",
    "\n",
    "PATH = Path('Z:/nahaUsers/casadje/GloFASv4/long_run/')\n",
    "START = 1991\n",
    "END = 2024\n",
    "\n",
    "client = cdsapi.Client(timeout=600) #, quiet=False, debug=True)\n",
    "\n",
    "variables = {\n",
    "    'discharge': \"river_discharge_in_the_last_24_hours\",\n",
    "    # 'rowe': \"runoff_water_equivalent\"\n",
    "}\n",
    "\n",
    "dataset = \"cems-glofas-historical\"\n",
    "for year in tqdm(range(START, END + 1), desc='year'):\n",
    "    for folder, variable in variables.items():\n",
    "        path_var = PATH / folder\n",
    "        path_var.mkdir(parents=True, exist_ok=True)\n",
    "        out_file = path_var / f'{folder}_{year}.nc'\n",
    "        if out_file.is_file():\n",
    "            continue\n",
    "            print(f'File {out_file} already exists')\n",
    "        request = {\n",
    "            \"system_version\": [\"version_4_0\"],\n",
    "            \"hydrological_model\": [\"lisflood\"],\n",
    "            \"product_type\": [\"consolidated\"],\n",
    "            \"variable\": [\"runoff_water_equivalent\"],\n",
    "            \"hyear\": [f'{year}'],\n",
    "            \"hmonth\": [f'{month:02}' for month in range(1, 13)],\n",
    "            \"hday\": [f'{day:02}' for day in range(1, 32)],\n",
    "            \"data_format\": \"netcdf\",\n",
    "            \"download_format\": \"unarchived\"\n",
    "        }\n",
    "\n",
    "        client.retrieve(dataset, request).download(out_file)\n",
    "        print(f'Saved file: {out_file}')"
   ]
  },
  {
   "cell_type": "code",
   "execution_count": null,
   "id": "4cb9097d-bbb1-41ca-b6bb-ddd7ad7718f7",
   "metadata": {},
   "outputs": [],
   "source": []
  }
 ],
 "metadata": {
  "kernelspec": {
   "display_name": "Python 3 (ipykernel)",
   "language": "python",
   "name": "python3"
  },
  "language_info": {
   "codemirror_mode": {
    "name": "ipython",
    "version": 3
   },
   "file_extension": ".py",
   "mimetype": "text/x-python",
   "name": "python",
   "nbconvert_exporter": "python",
   "pygments_lexer": "ipython3",
   "version": "3.9.13"
  }
 },
 "nbformat": 4,
 "nbformat_minor": 5
}
