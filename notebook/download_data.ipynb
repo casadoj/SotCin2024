{
 "cells": [
  {
   "cell_type": "code",
   "execution_count": 1,
   "id": "d6e597a3-a24d-4d9d-971d-d2bd798fd500",
   "metadata": {
    "tags": []
   },
   "outputs": [],
   "source": [
    "import cdsapi\n",
    "from pathlib import Path\n",
    "from tqdm.notebook import tqdm"
   ]
  },
  {
   "cell_type": "code",
   "execution_count": 7,
   "id": "fac8f23d-68e1-4f4a-8038-f6d9af9edc4d",
   "metadata": {},
   "outputs": [],
   "source": [
    "PATH = Path('Z:/nahaUsers/casadje/GloFASv4/long_run/')"
   ]
  },
  {
   "cell_type": "code",
   "execution_count": 3,
   "id": "0d63c949-9479-445c-b22c-9c12de4fb33d",
   "metadata": {
    "tags": []
   },
   "outputs": [
    {
     "name": "stderr",
     "output_type": "stream",
     "text": [
      "2025-01-23 13:03:02,307 INFO [2024-09-26T00:00:00] Welcome to the New [CEMS](https://emergency.copernicus.eu/) [Early Warning Data Store (EWDS)](https://ewds-beta.climate.copernicus.eu/)! This new system is in its early days of full operations and still undergoing enhancements and fine tuning. Some disruptions are to be expected. Your [feedback](https://jira.ecmwf.int/plugins/servlet/desk/portal/1/create/202) is key to improve the user experience on the new EWDS for the benefit of everyone. Thank you.\n",
      "2025-01-23 13:03:02,323 INFO [2024-09-26T00:00:00] Watch our [Forum]( https://forum.ecmwf.int/) for Announcements, news and other discussed topics.\n"
     ]
    }
   ],
   "source": [
    "client = cdsapi.Client(timeout=600) #, quiet=False, debug=True)"
   ]
  },
  {
   "cell_type": "code",
   "execution_count": 4,
   "id": "5abac91c-bb49-42cd-b9a0-c23ae0b2631f",
   "metadata": {},
   "outputs": [],
   "source": [
    "variables = {\n",
    "    # 'dis': \"river_discharge_in_the_last_24_hours\",\n",
    "    'runoff': \"runoff_water_equivalent\"\n",
    "}"
   ]
  },
  {
   "cell_type": "code",
   "execution_count": 8,
   "id": "5fe62f43-19d4-4dac-9dca-1fb042c79830",
   "metadata": {},
   "outputs": [],
   "source": [
    "out_file = PATH / 'runoff' / '2018.nc'"
   ]
  },
  {
   "cell_type": "code",
   "execution_count": 9,
   "id": "7b1569a3-70ba-4bd5-a9d9-9f8cd0e1dd21",
   "metadata": {},
   "outputs": [
    {
     "data": {
      "text/plain": [
       "True"
      ]
     },
     "execution_count": 9,
     "metadata": {},
     "output_type": "execute_result"
    }
   ],
   "source": [
    "out_file.is_file()"
   ]
  },
  {
   "cell_type": "code",
   "execution_count": null,
   "id": "04672a10-1da9-4583-8417-3b4acfb492e5",
   "metadata": {
    "tags": []
   },
   "outputs": [],
   "source": [
    "dataset = \"cems-glofas-historical\"\n",
    "for year in tqdm(range(1991, 2025), desc='year'):\n",
    "    for folder, variable in variables.items():\n",
    "        out_file = PATH / folder / f'{year}.nc'\n",
    "        if out_file.isfile():\n",
    "            continue\n",
    "        request = {\n",
    "            \"system_version\": [\"version_4_0\"],\n",
    "            \"hydrological_model\": [\"lisflood\"],\n",
    "            \"product_type\": [\"consolidated\"],\n",
    "            \"variable\": [\"runoff_water_equivalent\"],\n",
    "            \"hyear\": [f'{year}'],\n",
    "            \"hmonth\": [f'{month:02}' for month in range(1, 13)],\n",
    "            \"hday\": [f'{day:02}' for day in range(1, 32)],\n",
    "            \"data_format\": \"netcdf\",\n",
    "            \"download_format\": \"unarchived\"\n",
    "        }\n",
    "\n",
    "        client.retrieve(dataset, request).download(outfile)"
   ]
  }
 ],
 "metadata": {
  "kernelspec": {
   "display_name": "Python 3 (ipykernel)",
   "language": "python",
   "name": "python3"
  },
  "language_info": {
   "codemirror_mode": {
    "name": "ipython",
    "version": 3
   },
   "file_extension": ".py",
   "mimetype": "text/x-python",
   "name": "python",
   "nbconvert_exporter": "python",
   "pygments_lexer": "ipython3",
   "version": "3.9.13"
  }
 },
 "nbformat": 4,
 "nbformat_minor": 5
}
