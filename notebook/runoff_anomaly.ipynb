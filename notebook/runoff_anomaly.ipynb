{
 "cells": [
  {
   "cell_type": "markdown",
   "id": "374a88f2-3043-435c-b0bb-71f7482776bf",
   "metadata": {},
   "source": [
    "# Runoff anomaly\n",
    "***\n",
    "\n",
    "***Author:** Chus Casado Rodríguez*<br>\n",
    "***Date:** 27-01-2025*<br>\n",
    "\n",
    "**Introduction**<br>\n",
    "\n",
    "This notebook computes the runoff anomaly in the year 2024 based on the results of the GloFAS4 historical run. The reference period used as climatology spans from 1991 to 2020.\n",
    "\n",
    "**Output**<br>\n",
    "A NetCDF of runoff anomaly."
   ]
  },
  {
   "cell_type": "code",
   "execution_count": 1,
   "id": "4b10bb9d-881a-4876-988e-c4ac4862b124",
   "metadata": {},
   "outputs": [],
   "source": [
    "import xarray as xr\n",
    "from pathlib import Path\n",
    "import matplotlib.pyplot as plt\n",
    "import matplotlib.colors as mcolors\n",
    "import cartopy.feature as cfeature\n",
    "import cartopy.crs as ccrs\n",
    "from datetime import datetime"
   ]
  },
  {
   "cell_type": "markdown",
   "id": "5d3ee513-7873-487c-9bc5-90e71cf23603",
   "metadata": {},
   "source": [
    "## Configuration"
   ]
  },
  {
   "cell_type": "code",
   "execution_count": 2,
   "id": "97554fff-e285-4441-89a8-11d4e954ce3b",
   "metadata": {},
   "outputs": [],
   "source": [
    "VAR = 'runoff'\n",
    "PATH = Path('../data/')\n",
    "CLIMA_FILE = PATH / VAR / f'{VAR}_avg_1991-2020.nc'\n",
    "YEAR_FILE = PATH / VAR / f'{VAR}_avg_2024.nc'"
   ]
  },
  {
   "cell_type": "code",
   "execution_count": 3,
   "id": "3b87bf00-1955-4e3d-9a66-2eb4d8934773",
   "metadata": {},
   "outputs": [],
   "source": [
    "map_variables = {\n",
    "    'runoff': 'rowe',\n",
    "    'discharge': 'dis24'\n",
    "}\n",
    "\n",
    "var_shortname = map_variables[VAR]"
   ]
  },
  {
   "cell_type": "markdown",
   "id": "716ad615-1e6f-4bb0-af39-e4a84e7db743",
   "metadata": {},
   "source": [
    "## Data"
   ]
  },
  {
   "cell_type": "code",
   "execution_count": 4,
   "id": "e36c4d01-99d5-41c4-9dd8-9d3bd0ddf5c2",
   "metadata": {},
   "outputs": [],
   "source": [
    "# load climatology: average period 1991-2020\n",
    "climatology = xr.open_dataset(CLIMA_FILE)[var_shortname]\n",
    "climatology.close()"
   ]
  },
  {
   "cell_type": "code",
   "execution_count": 5,
   "id": "8ce62b67-043d-4fd9-a6fe-6760b2546c9d",
   "metadata": {},
   "outputs": [],
   "source": [
    "# load year of analysis: 2024\n",
    "data = xr.open_dataset(YEAR_FILE)[var_shortname]\n",
    "data.close()"
   ]
  },
  {
   "cell_type": "markdown",
   "id": "eea2d258-0ac7-4b5f-90b0-ca7e3e2f4efe",
   "metadata": {},
   "source": [
    "## Anomaly"
   ]
  },
  {
   "cell_type": "code",
   "execution_count": 6,
   "id": "7b8c4203-ed0d-4153-9465-45890ab1902e",
   "metadata": {},
   "outputs": [],
   "source": [
    "# compute annual anomaly\n",
    "anomaly = (data - climatology) * 365 # mm/yr"
   ]
  },
  {
   "cell_type": "code",
   "execution_count": 7,
   "id": "6242542e-19d7-4b80-8880-cae31ad58c95",
   "metadata": {},
   "outputs": [],
   "source": [
    "# correct name and coordinates\n",
    "anomaly.name = VAR\n",
    "anomaly = anomaly.drop_vars('surface', errors='ignore')"
   ]
  },
  {
   "cell_type": "code",
   "execution_count": 8,
   "id": "b06117df-b386-4899-9f2a-5785fae9022e",
   "metadata": {},
   "outputs": [],
   "source": [
    "# add attributes\n",
    "anomaly.attrs['long_name'] = 'runoff anomaly'\n",
    "anomaly.attrs['units'] = 'mm/yr'\n",
    "anomaly.attrs['climatology'] = '1991-2020'\n",
    "anomaly.attrs['source'] = 'GloFASv4'\n",
    "anomaly.attrs['crs'] = 'epsg:4326'\n",
    "anomaly.attrs['author'] = 'Jesús Casado Rodríguez <jesus.casado-rodriguez@ec.europa.eu>'\n",
    "anomaly.attrs['institution'] = 'Joint Research Centre - European Commission'\n",
    "anomaly.attrs['history'] = 'Created {0}'.format(datetime.now().strftime(\"%B %d %Y %H:%M:%S\"))"
   ]
  },
  {
   "cell_type": "markdown",
   "id": "d8c1b8c9-14a0-452c-8255-f5533d103c12",
   "metadata": {},
   "source": [
    "### Plot"
   ]
  },
  {
   "cell_type": "code",
   "execution_count": 9,
   "id": "beb865d9-408b-40bc-9d37-9292d780445a",
   "metadata": {},
   "outputs": [],
   "source": [
    "# boundaries = [-1e3, -500, -250, -100, -50, -25, 25, 50, 100, 250, 500, 1e3]\n",
    "# cmap = plt.cm.BrBG\n",
    "# norm = mcolors.BoundaryNorm(boundaries, cmap.N)#, extend='both')\n",
    "\n",
    "# # fig, ax = plt.subplots(figsize=(12, 6), subplot_kw=dict(projection=ccrs.PlateCarree()))\n",
    "# anomaly.plot(\n",
    "#     cmap=cmap,\n",
    "#     norm=norm,\n",
    "#     cbar_kwargs={\n",
    "#         'orientation': 'horizontal', \n",
    "#         'pad': 0.05, \n",
    "#         'label': 'Anomaly',\n",
    "#         'ticks': [-500, -250, -100, -50, 25, 50, 100, 250, 500], \n",
    "#     }\n",
    "# )\n",
    "# ax.axis('off')\n",
    "\n",
    "# plt.show()"
   ]
  },
  {
   "cell_type": "code",
   "execution_count": 10,
   "id": "66c0920f-6376-4c4a-823b-8cd5fea83774",
   "metadata": {},
   "outputs": [],
   "source": [
    "# export\n",
    "anomaly.to_netcdf(PATH / VAR / f'{VAR}_anomaly.nc')"
   ]
  }
 ],
 "metadata": {
  "kernelspec": {
   "display_name": "Python 3 (ipykernel)",
   "language": "python",
   "name": "python3"
  },
  "language_info": {
   "codemirror_mode": {
    "name": "ipython",
    "version": 3
   },
   "file_extension": ".py",
   "mimetype": "text/x-python",
   "name": "python",
   "nbconvert_exporter": "python",
   "pygments_lexer": "ipython3",
   "version": "3.9.13"
  }
 },
 "nbformat": 4,
 "nbformat_minor": 5
}
