{
 "cells": [
  {
   "cell_type": "code",
   "execution_count": null,
   "id": "6f1f4abf-f2ba-4263-8286-010d5b9506da",
   "metadata": {},
   "outputs": [],
   "source": [
    "import numpy as np\n",
    "import xarray as xr\n",
    "from pathlib import Path\n",
    "from tqdm.auto import tqdm"
   ]
  },
  {
   "cell_type": "code",
   "execution_count": null,
   "id": "53628a92-a91b-4100-8398-c8b9fc5c15b0",
   "metadata": {},
   "outputs": [],
   "source": [
    "# configuration\n",
    "variable = 'rowe'\n",
    "base_path = Path('Z:/nahaUsers/casadje/GloFASv4/long_run')\n",
    "start_date = '1991-01-02'\n",
    "end_date = '2021-01-01'\n",
    "output_dir = base_path / variable / 'thresholds'\n",
    "output_file = output_dir / f'avg_{variable}_xarray.nc'"
   ]
  },
  {
   "cell_type": "code",
   "execution_count": null,
   "id": "1cf6a9f7-c0bb-47c8-abe6-d07af59f0d39",
   "metadata": {},
   "outputs": [],
   "source": [
    "# create output directory\n",
    "output_dir.mkdir(parents=True, exist_ok=True)\n",
    "\n",
    "# list of input NetCDF files\n",
    "files = sorted((base_path / variable).glob(f'{variable}_*.nc'))\n",
    "if not files:\n",
    "    raise FileNotFoundError(f\"No files found in {base_path / variable} matching pattern '{variable}_*.nc'.\")"
   ]
  },
  {
   "cell_type": "markdown",
   "id": "81c6bdfd-6edd-49cc-95c8-fa7e66769d63",
   "metadata": {},
   "source": [
    "***"
   ]
  },
  {
   "cell_type": "code",
   "execution_count": null,
   "id": "93c29b52-e692-4486-b812-8fc6cf641544",
   "metadata": {},
   "outputs": [],
   "source": [
    "# open dataset and crop to the study period\n",
    "ds = xr.open_mfdataset(\n",
    "    files,\n",
    "    engine='netcdf4',\n",
    "    chunks='auto', #{'time': 365, 'lat':'auto', 'lon': 'auto'}\n",
    ")[variable]\n",
    "\n",
    "ds = ds.rename({'valid_time': 'time', 'latitude': 'lat', 'longitude': 'lon'})\n",
    "\n",
    "ds = ds.sel(time=slice(start_date, end_date))\n",
    "\n",
    "ds = ds.chunk({'time': 365, 'lat':'auto', 'lon': 'auto'})"
   ]
  },
  {
   "cell_type": "code",
   "execution_count": null,
   "id": "cd516c4e-46cc-4b9f-a750-14842e53b691",
   "metadata": {},
   "outputs": [],
   "source": [
    "# compute average\n",
    "avg = ds.mean('time')"
   ]
  },
  {
   "cell_type": "code",
   "execution_count": null,
   "id": "06ef6c47-10a6-40c9-85be-f26b9d9a67f2",
   "metadata": {},
   "outputs": [],
   "source": [
    "avg"
   ]
  },
  {
   "cell_type": "code",
   "execution_count": null,
   "id": "3b45c500-79c5-471c-85ef-efccecf0861b",
   "metadata": {},
   "outputs": [],
   "source": [
    "# save output file\n",
    "avg.to_netcdf(output_file)\n",
    "print(f'Saved file {output_file}')"
   ]
  },
  {
   "cell_type": "markdown",
   "id": "2816441d-f802-4fc9-a400-c46d1dd5a542",
   "metadata": {},
   "source": [
    "***"
   ]
  },
  {
   "cell_type": "code",
   "execution_count": null,
   "id": "46d5ecc1-c375-4e6b-b2c7-e6325cee7a39",
   "metadata": {},
   "outputs": [],
   "source": [
    "avg = {}"
   ]
  },
  {
   "cell_type": "code",
   "execution_count": null,
   "id": "1850d810-7807-4fb1-852e-92808f8f6430",
   "metadata": {},
   "outputs": [],
   "source": [
    "for file in tqdm(files, desc='year'):\n",
    "    print(file)\n",
    "    break"
   ]
  },
  {
   "cell_type": "code",
   "execution_count": null,
   "id": "79fbef16-128a-4851-8b57-8a5fb5cae59b",
   "metadata": {},
   "outputs": [],
   "source": [
    "    ds = xr.open_dataset(file, chunks={'valid_time': 365, 'latitude': 'auto', 'longitude': 'auto'})[variable]"
   ]
  },
  {
   "cell_type": "code",
   "execution_count": null,
   "id": "19c0459d-0e43-4ea3-a094-2e6cfd8ce63b",
   "metadata": {},
   "outputs": [],
   "source": [
    "ds = ds.rename({'valid_time': 'time'})"
   ]
  },
  {
   "cell_type": "code",
   "execution_count": null,
   "id": "47050dd2-2d7a-46cc-a980-1f8609554600",
   "metadata": {},
   "outputs": [],
   "source": [
    "ds.close()"
   ]
  },
  {
   "cell_type": "code",
   "execution_count": null,
   "id": "c406260b-7e20-47f2-80af-72dbccf6e488",
   "metadata": {},
   "outputs": [],
   "source": [
    "ds"
   ]
  },
  {
   "cell_type": "code",
   "execution_count": null,
   "id": "4a3e5c87-0782-4e51-9a8f-300ca2592947",
   "metadata": {},
   "outputs": [],
   "source": [
    "    temp = ds.mean('time').compute()"
   ]
  },
  {
   "cell_type": "code",
   "execution_count": null,
   "id": "9c27aedc-0b5c-467f-8997-b9e13a8a1c3c",
   "metadata": {},
   "outputs": [],
   "source": [
    "    ds.close()"
   ]
  },
  {
   "cell_type": "code",
   "execution_count": null,
   "id": "72261e62-14f5-4618-bdf5-f6678a9cefa2",
   "metadata": {},
   "outputs": [],
   "source": [
    "    "
   ]
  }
 ],
 "metadata": {
  "kernelspec": {
   "display_name": "Python 3 (ipykernel)",
   "language": "python",
   "name": "python3"
  },
  "language_info": {
   "codemirror_mode": {
    "name": "ipython",
    "version": 3
   },
   "file_extension": ".py",
   "mimetype": "text/x-python",
   "name": "python",
   "nbconvert_exporter": "python",
   "pygments_lexer": "ipython3",
   "version": "3.9.13"
  }
 },
 "nbformat": 4,
 "nbformat_minor": 5
}
