{
 "cells": [
  {
   "cell_type": "code",
   "execution_count": null,
   "id": "e6330701-c770-4429-9d3b-24ee269fa891",
   "metadata": {},
   "outputs": [],
   "source": [
    "import numpy as np\n",
    "import xarray as xr\n",
    "from pathlib import Path\n",
    "from tqdm.auto import tqdm\n",
    "\n",
    "# configuration\n",
    "variable = 'dis'\n",
    "base_path = Path('Z:/nahaUsers/casadje/GloFASv4/long_run')\n",
    "start_date = '1991-01-02'\n",
    "end_date = '2021-01-01'\n",
    "output_dir = base_path / variable / 'thresholds'\n",
    "output_file = output_dir / f'avg_{variable}_xarray.nc'"
   ]
  },
  {
   "cell_type": "code",
   "execution_count": null,
   "id": "561f5235-bcec-4149-9f45-fbedaa1dd951",
   "metadata": {},
   "outputs": [],
   "source": [
    "# create output directory\n",
    "output_dir.mkdir(parents=True, exist_ok=True)\n",
    "\n",
    "# list of input NetCDF files\n",
    "files = sorted((base_path / variable).glob(f'{variable}_*.nc'))\n",
    "if not files:\n",
    "    raise FileNotFoundError(f\"No files found in {base_path / variable} matching pattern '{variable}_*.nc'.\")\n",
    "\n",
    "# open dataset and crop to the study period\n",
    "ds = xr.open_mfdataset(\n",
    "    files,\n",
    "    engine='netcdf4',\n",
    "    chunks={'time': 365, 'lat': 200, 'lon': 200}\n",
    ")[variable]\n",
    "ds = ds.sel(time=slice(start_date, end_date))\n",
    "\n",
    "# compute average\n",
    "avg_dis = ds.mean('time')\n",
    "\n",
    "# save output file\n",
    "avg_dis.to_netcdf(output_file)\n",
    "print(f'Saved file {output_file}')"
   ]
  },
  {
   "cell_type": "code",
   "execution_count": null,
   "id": "8e9a6f58-fc86-48e6-8ab5-198548494a1d",
   "metadata": {},
   "outputs": [],
   "source": [
    "# var = 'dis24'\n",
    "ds = xr.open_dataset(base_path / 'swi' / 'swi_2000.nc', chunks='auto')#[var]\n",
    "ds.close()"
   ]
  },
  {
   "cell_type": "code",
   "execution_count": null,
   "id": "e0fd3c2a-8ca6-4395-be64-ddf306f8e777",
   "metadata": {},
   "outputs": [],
   "source": [
    "ds"
   ]
  },
  {
   "cell_type": "code",
   "execution_count": null,
   "id": "fb244267-706a-4696-b3a8-00a84a0ddd04",
   "metadata": {},
   "outputs": [],
   "source": [
    "da = xr.open_dataarray(base_path / 'dis' / 'thresholds' / 'avg_dis24.nc', chunks='auto')"
   ]
  },
  {
   "cell_type": "code",
   "execution_count": null,
   "id": "c0c4feff-801b-486b-b95c-d4cb13123952",
   "metadata": {},
   "outputs": [],
   "source": [
    "da.plot(cmap='Blues');"
   ]
  },
  {
   "cell_type": "markdown",
   "id": "2816441d-f802-4fc9-a400-c46d1dd5a542",
   "metadata": {},
   "source": [
    "***"
   ]
  },
  {
   "cell_type": "code",
   "execution_count": null,
   "id": "46d5ecc1-c375-4e6b-b2c7-e6325cee7a39",
   "metadata": {},
   "outputs": [],
   "source": [
    "avg_dis = {}"
   ]
  },
  {
   "cell_type": "code",
   "execution_count": null,
   "id": "1850d810-7807-4fb1-852e-92808f8f6430",
   "metadata": {},
   "outputs": [],
   "source": [
    "for file in tqdm(files, desc='year'):\n",
    "    print(file)\n",
    "    break"
   ]
  },
  {
   "cell_type": "code",
   "execution_count": null,
   "id": "79fbef16-128a-4851-8b57-8a5fb5cae59b",
   "metadata": {},
   "outputs": [],
   "source": [
    "    ds = xr.open_dataset(file, chunks={'time': 365, 'lat': 'auto', 'lon': 'auto'})[variable]"
   ]
  },
  {
   "cell_type": "code",
   "execution_count": null,
   "id": "4a3e5c87-0782-4e51-9a8f-300ca2592947",
   "metadata": {},
   "outputs": [],
   "source": [
    "    temp = ds.mean('time').compute()"
   ]
  },
  {
   "cell_type": "code",
   "execution_count": null,
   "id": "9c27aedc-0b5c-467f-8997-b9e13a8a1c3c",
   "metadata": {},
   "outputs": [],
   "source": [
    "    ds.close()"
   ]
  },
  {
   "cell_type": "code",
   "execution_count": null,
   "id": "72261e62-14f5-4618-bdf5-f6678a9cefa2",
   "metadata": {},
   "outputs": [],
   "source": [
    "    "
   ]
  }
 ],
 "metadata": {
  "kernelspec": {
   "display_name": "Python 3 (ipykernel)",
   "language": "python",
   "name": "python3"
  },
  "language_info": {
   "codemirror_mode": {
    "name": "ipython",
    "version": 3
   },
   "file_extension": ".py",
   "mimetype": "text/x-python",
   "name": "python",
   "nbconvert_exporter": "python",
   "pygments_lexer": "ipython3",
   "version": "3.9.13"
  }
 },
 "nbformat": 4,
 "nbformat_minor": 5
}
