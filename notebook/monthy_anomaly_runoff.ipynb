{
 "cells": [
  {
   "cell_type": "code",
   "execution_count": 1,
   "id": "e08853b9-63ee-4443-8c91-1a05067e781f",
   "metadata": {},
   "outputs": [],
   "source": [
    "# import numpy as np\n",
    "import pandas as pd\n",
    "import xarray as xr\n",
    "from pathlib import Path"
   ]
  },
  {
   "cell_type": "code",
   "execution_count": 2,
   "id": "4792d3ea-edfa-480e-ab5d-d264aef0b45f",
   "metadata": {},
   "outputs": [],
   "source": [
    "# configuration\n",
    "variable = 'rowe'\n",
    "base_path = Path('Z:/nahaUsers/casadje/GloFASv4/long_run')\n",
    "start_date = '1991-01-01'\n",
    "end_date = '1992-12-31'\n",
    "output_dir = base_path / variable / 'thresholds'\n",
    "output_file = output_dir / f'{variable}_monthly_avg.nc'\n",
    "\n",
    "# create output directory\n",
    "output_dir.mkdir(parents=True, exist_ok=True)\n",
    "\n",
    "# list of input NetCDF files\n",
    "files = sorted((base_path / variable).glob(f'{variable}_*.nc'))\n",
    "if not files:\n",
    "    raise FileNotFoundError(f\"No files found in {base_path / variable} matching pattern '{variable}_*.nc'.\")\n",
    "\n",
    "# open dataset and crop to the study period\n",
    "ds = xr.open_mfdataset(\n",
    "    files,\n",
    "    engine='netcdf4',\n",
    "    chunks='auto',\n",
    ")[variable]\n",
    "\n",
    "# rename variables\n",
    "ds = ds.rename({'valid_time': 'time', 'latitude': 'lat', 'longitude': 'lon'})\n",
    "\n",
    "# convert time convention to beginning-of-timestep\n",
    "ds['time'] = ds['time'] - pd.Timedelta(days=1)\n",
    "\n",
    "# crop to the study period\n",
    "ds = ds.sel(time=slice(start_date, end_date))"
   ]
  },
  {
   "cell_type": "code",
   "execution_count": 4,
   "id": "9e2033d6-06d9-452e-9fff-88a11f2cb591",
   "metadata": {},
   "outputs": [],
   "source": [
    "# monthly resample\n",
    "ds_monthly = ds.resample(time='1MS').mean(skipna=True)"
   ]
  },
  {
   "cell_type": "code",
   "execution_count": 5,
   "id": "673d4ec6-bd50-4d25-ab45-83fc7fc76b3e",
   "metadata": {},
   "outputs": [],
   "source": [
    "# rechunk\n",
    "ds_monthly = ds.chunk({'time': 1, 'lat':'auto', 'lon': 'auto'})"
   ]
  },
  {
   "cell_type": "code",
   "execution_count": null,
   "id": "ed1f88c9-dcd4-4256-bcf0-66cd5eff2846",
   "metadata": {},
   "outputs": [],
   "source": [
    "# compute average\n",
    "avg = ds_monthly.mean(['lat', 'lon'], skipna=True).compute()"
   ]
  },
  {
   "cell_type": "code",
   "execution_count": null,
   "id": "02940842-6adc-41fa-a4fa-b6fd31463d4f",
   "metadata": {},
   "outputs": [],
   "source": [
    "avg"
   ]
  },
  {
   "cell_type": "code",
   "execution_count": null,
   "id": "b607b23e-53f9-4358-b22d-ae0bb7e4ba67",
   "metadata": {},
   "outputs": [],
   "source": []
  }
 ],
 "metadata": {
  "kernelspec": {
   "display_name": "Python 3 (ipykernel)",
   "language": "python",
   "name": "python3"
  },
  "language_info": {
   "codemirror_mode": {
    "name": "ipython",
    "version": 3
   },
   "file_extension": ".py",
   "mimetype": "text/x-python",
   "name": "python",
   "nbconvert_exporter": "python",
   "pygments_lexer": "ipython3",
   "version": "3.9.13"
  }
 },
 "nbformat": 4,
 "nbformat_minor": 5
}
