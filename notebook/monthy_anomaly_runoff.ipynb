{
 "cells": [
  {
   "cell_type": "code",
   "execution_count": null,
   "id": "e08853b9-63ee-4443-8c91-1a05067e781f",
   "metadata": {},
   "outputs": [],
   "source": [
    "import pandas as pd\n",
    "import xarray as xr\n",
    "from pathlib import Path\n",
    "from datetime import datetime"
   ]
  },
  {
   "cell_type": "code",
   "execution_count": null,
   "id": "4792d3ea-edfa-480e-ab5d-d264aef0b45f",
   "metadata": {},
   "outputs": [],
   "source": [
    "# configuration\n",
    "variable = 'rowe'\n",
    "base_path = Path('Z:/nahaUsers/casadje/GloFASv4/long_run')\n",
    "start_date = datetime.strptime('1991-01-01', '%Y-%m-%d')\n",
    "end_date = datetime.strptime('1991-12-31', '%Y-%m-%d')\n",
    "output_dir = base_path / variable / 'thresholds'\n",
    "output_file = output_dir / f'{variable}_monthly_avg.nc'\n",
    "\n",
    "# create output directory\n",
    "output_dir.mkdir(parents=True, exist_ok=True)\n",
    "\n",
    "# list of input NetCDF files\n",
    "files = sorted((base_path / variable).glob(f'{variable}_*.nc'))\n",
    "files = [file for file in files if start_date.year <= int(file.stem.split('_')[1]) <= end_date.year]\n",
    "if not files:\n",
    "    raise FileNotFoundError(f\"No files found in {base_path / variable} matching pattern '{variable}_*.nc'.\")\n",
    "\n",
    "# open dataset and crop to the study period\n",
    "ds = xr.open_mfdataset(\n",
    "    files,\n",
    "    engine='netcdf4',\n",
    "    chunks='auto',\n",
    ")[variable]\n",
    "\n",
    "# rename variables\n",
    "ds = ds.rename({'valid_time': 'time', 'latitude': 'lat', 'longitude': 'lon'})\n",
    "\n",
    "# convert time convention to beginning-of-timestep\n",
    "ds['time'] = ds['time'] - pd.Timedelta(days=1)\n",
    "\n",
    "# crop to the study period\n",
    "ds = ds.sel(time=slice(start_date, end_date))"
   ]
  },
  {
   "cell_type": "code",
   "execution_count": null,
   "id": "03a15e3f-bc0a-426e-b200-6d007d5accb4",
   "metadata": {},
   "outputs": [],
   "source": [
    "start_date.year"
   ]
  },
  {
   "cell_type": "code",
   "execution_count": null,
   "id": "9e2033d6-06d9-452e-9fff-88a11f2cb591",
   "metadata": {},
   "outputs": [],
   "source": [
    "# monthly resample\n",
    "ds_monthly = ds.resample(time='1M').mean(skipna=True)"
   ]
  },
  {
   "cell_type": "code",
   "execution_count": null,
   "id": "673d4ec6-bd50-4d25-ab45-83fc7fc76b3e",
   "metadata": {},
   "outputs": [],
   "source": [
    "# rechunk\n",
    "ds_monthly = ds_monthly.chunk({'time': 1, 'lat':'auto', 'lon': 'auto'})"
   ]
  },
  {
   "cell_type": "code",
   "execution_count": null,
   "id": "ed1f88c9-dcd4-4256-bcf0-66cd5eff2846",
   "metadata": {},
   "outputs": [],
   "source": [
    "# compute average\n",
    "serie = ds_monthly.mean(['lat', 'lon'], skipna=True).to_pandas()"
   ]
  },
  {
   "cell_type": "code",
   "execution_count": null,
   "id": "5e8ccfb1-f7a1-4c74-90dc-7eb7e102f701",
   "metadata": {},
   "outputs": [],
   "source": [
    "serie.shape"
   ]
  },
  {
   "cell_type": "code",
   "execution_count": null,
   "id": "02940842-6adc-41fa-a4fa-b6fd31463d4f",
   "metadata": {},
   "outputs": [],
   "source": [
    "# serie = avg.to_pandas()\n",
    "serie.name = 'runoff_mm'"
   ]
  },
  {
   "cell_type": "code",
   "execution_count": null,
   "id": "2f2dbc06-d424-43a7-a0a8-089bc6f00ff8",
   "metadata": {},
   "outputs": [],
   "source": [
    "serie.head()"
   ]
  },
  {
   "cell_type": "code",
   "execution_count": null,
   "id": "b607b23e-53f9-4358-b22d-ae0bb7e4ba67",
   "metadata": {},
   "outputs": [],
   "source": [
    "serie.plot();"
   ]
  },
  {
   "cell_type": "markdown",
   "id": "aab6e463-c0ab-4334-b219-77a233670f3b",
   "metadata": {},
   "source": [
    "***"
   ]
  },
  {
   "cell_type": "code",
   "execution_count": null,
   "id": "124d2330-a470-41ce-a454-76e7ece05da7",
   "metadata": {},
   "outputs": [],
   "source": [
    "import numpy as np\n",
    "import matplotlib.pyplot as plt"
   ]
  },
  {
   "cell_type": "code",
   "execution_count": null,
   "id": "d116a341-e117-443f-9066-88e1c56e48a9",
   "metadata": {},
   "outputs": [],
   "source": [
    "consolidated = xr.open_dataset(base_path / 'rowe' / 'rowe_2024.nc', chunks='auto')['rowe']\n",
    "consolidated = consolidated.sel(valid_time=slice('2024-02-01', '2024-02-29'))\n",
    "# consolidated = consolidated.mean('valid_time', skipna=True).compute()\n",
    "consolidated = consolidated.mean(['latitude', 'longitude'], skipna=True).compute()"
   ]
  },
  {
   "cell_type": "code",
   "execution_count": null,
   "id": "8e4c646c-f077-4201-8aa1-a21dc24306e4",
   "metadata": {},
   "outputs": [],
   "source": [
    "consolidated"
   ]
  },
  {
   "cell_type": "code",
   "execution_count": null,
   "id": "743d014f-e51c-4d94-a526-02cb3c7edc94",
   "metadata": {},
   "outputs": [],
   "source": [
    "intermediate = xr.open_dataset(base_path / 'rowe' / 'rowe_2024_intermediate.nc', chunks='auto')['rowe']\n",
    "intermediate = intermediate.sel(valid_time=slice('2024-02-01', '2024-02-29'))\n",
    "# intermediate = intermediate.mean('valid_time', skipna=True).compute()\n",
    "intermediate = intermediate.mean(['latitude', 'longitude'], skipna=True).compute()"
   ]
  },
  {
   "cell_type": "code",
   "execution_count": null,
   "id": "5c84e465-ca82-4f5c-802f-c9ba873337fc",
   "metadata": {},
   "outputs": [],
   "source": [
    "intermediate"
   ]
  },
  {
   "cell_type": "code",
   "execution_count": null,
   "id": "8c553868-cf78-4421-a756-312c9ef4e067",
   "metadata": {},
   "outputs": [],
   "source": [
    "fig, ax = plt.subplots()\n",
    "consolidated.plot(ax=ax);\n",
    "intermediate.plot(ax=ax);"
   ]
  },
  {
   "cell_type": "code",
   "execution_count": null,
   "id": "6a42c79d-6237-45ed-9851-3c98573f16fc",
   "metadata": {},
   "outputs": [],
   "source": [
    "consolidated.min(['latitude', 'longitude'])"
   ]
  },
  {
   "cell_type": "code",
   "execution_count": null,
   "id": "8df7517e-3b41-4c60-a2e0-3e9ac66ba3a6",
   "metadata": {},
   "outputs": [],
   "source": [
    "intermediate.min(['latitude', 'longitude'])"
   ]
  },
  {
   "cell_type": "code",
   "execution_count": null,
   "id": "88fa2a91-07b0-42c2-9526-a4e3ab03580e",
   "metadata": {},
   "outputs": [],
   "source": [
    "np.isclose(consolidated, intermediate, atol=1e-2).all()"
   ]
  },
  {
   "cell_type": "code",
   "execution_count": null,
   "id": "a94d104c-9aaf-46db-808d-f6c62564c01b",
   "metadata": {},
   "outputs": [],
   "source": []
  }
 ],
 "metadata": {
  "kernelspec": {
   "display_name": "Python 3 (ipykernel)",
   "language": "python",
   "name": "python3"
  },
  "language_info": {
   "codemirror_mode": {
    "name": "ipython",
    "version": 3
   },
   "file_extension": ".py",
   "mimetype": "text/x-python",
   "name": "python",
   "nbconvert_exporter": "python",
   "pygments_lexer": "ipython3",
   "version": "3.9.13"
  }
 },
 "nbformat": 4,
 "nbformat_minor": 5
}
