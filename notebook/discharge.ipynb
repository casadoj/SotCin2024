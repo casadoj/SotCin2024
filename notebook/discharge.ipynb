{
 "cells": [
  {
   "cell_type": "code",
   "execution_count": 5,
   "id": "6f1f4abf-f2ba-4263-8286-010d5b9506da",
   "metadata": {},
   "outputs": [],
   "source": [
    "import numpy as np\n",
    "import xarray as xr\n",
    "from pathlib import Path\n",
    "from tqdm.auto import tqdm"
   ]
  },
  {
   "cell_type": "code",
   "execution_count": 2,
   "id": "53628a92-a91b-4100-8398-c8b9fc5c15b0",
   "metadata": {},
   "outputs": [],
   "source": [
    "# configuration\n",
    "variable = 'dis'\n",
    "base_path = Path('Z:/nahaUsers/casadje/GloFASv4/long_run')\n",
    "start_date = '1991-01-02'\n",
    "end_date = '2021-01-01'\n",
    "output_dir = base_path / variable / 'thresholds'\n",
    "output_file = output_dir / f'avg_{variable}_xarray.nc'"
   ]
  },
  {
   "cell_type": "code",
   "execution_count": 3,
   "id": "1cf6a9f7-c0bb-47c8-abe6-d07af59f0d39",
   "metadata": {},
   "outputs": [],
   "source": [
    "# create output directory\n",
    "output_dir.mkdir(parents=True, exist_ok=True)\n",
    "\n",
    "# list of input NetCDF files\n",
    "files = sorted((base_path / variable).glob(f'{variable}_*.nc'))\n",
    "if not files:\n",
    "    raise FileNotFoundError(f\"No files found in {base_path / variable} matching pattern '{variable}_*.nc'.\")"
   ]
  },
  {
   "cell_type": "markdown",
   "id": "81c6bdfd-6edd-49cc-95c8-fa7e66769d63",
   "metadata": {},
   "source": [
    "***"
   ]
  },
  {
   "cell_type": "code",
   "execution_count": null,
   "id": "448d8d3d-3db1-44c3-9021-14fb7ca41788",
   "metadata": {},
   "outputs": [],
   "source": [
    "# open dataset and crop to the study period\n",
    "ds = xr.open_mfdataset(\n",
    "    files,\n",
    "    engine='netcdf4',\n",
    "    chunks={'time': 365, 'lat': 200, 'lon': 200}\n",
    ")[variable]\n",
    "ds = ds.sel(time=slice(start_date, end_date))"
   ]
  },
  {
   "cell_type": "code",
   "execution_count": null,
   "id": "9c60ea0b-f99d-4f4f-9998-3e613ddac0b6",
   "metadata": {},
   "outputs": [],
   "source": [
    "# compute average\n",
    "avg_dis = ds.mean('time')\n",
    "\n",
    "# save output file\n",
    "avg_dis.to_netcdf(output_file)\n",
    "print(f'Saved file {output_file}')"
   ]
  },
  {
   "cell_type": "markdown",
   "id": "2816441d-f802-4fc9-a400-c46d1dd5a542",
   "metadata": {},
   "source": [
    "***"
   ]
  },
  {
   "cell_type": "code",
   "execution_count": null,
   "id": "46d5ecc1-c375-4e6b-b2c7-e6325cee7a39",
   "metadata": {},
   "outputs": [],
   "source": [
    "avg_dis = {}"
   ]
  },
  {
   "cell_type": "code",
   "execution_count": 7,
   "id": "1850d810-7807-4fb1-852e-92808f8f6430",
   "metadata": {},
   "outputs": [
    {
     "data": {
      "application/vnd.jupyter.widget-view+json": {
       "model_id": "d9a8eef916604ecf939b4b27b2dde1a1",
       "version_major": 2,
       "version_minor": 0
      },
      "text/plain": [
       "year:   0%|          | 0/30 [00:00<?, ?it/s]"
      ]
     },
     "metadata": {},
     "output_type": "display_data"
    },
    {
     "name": "stdout",
     "output_type": "stream",
     "text": [
      "Z:\\nahaUsers\\casadje\\GloFASv4\\long_run\\dis\\dis_1991.nc\n"
     ]
    }
   ],
   "source": [
    "for file in tqdm(files, desc='year'):\n",
    "    print(file)\n",
    "    break"
   ]
  },
  {
   "cell_type": "code",
   "execution_count": 8,
   "id": "79fbef16-128a-4851-8b57-8a5fb5cae59b",
   "metadata": {},
   "outputs": [],
   "source": [
    "    ds = xr.open_dataset(file, chunks={'time': 365, 'lat': 'auto', 'lon': 'auto'})[variable]"
   ]
  },
  {
   "cell_type": "code",
   "execution_count": null,
   "id": "4a3e5c87-0782-4e51-9a8f-300ca2592947",
   "metadata": {},
   "outputs": [],
   "source": [
    "    temp = ds.mean('time').compute()"
   ]
  },
  {
   "cell_type": "code",
   "execution_count": null,
   "id": "9c27aedc-0b5c-467f-8997-b9e13a8a1c3c",
   "metadata": {},
   "outputs": [],
   "source": [
    "    ds.close()"
   ]
  },
  {
   "cell_type": "code",
   "execution_count": null,
   "id": "72261e62-14f5-4618-bdf5-f6678a9cefa2",
   "metadata": {},
   "outputs": [],
   "source": [
    "    "
   ]
  }
 ],
 "metadata": {
  "kernelspec": {
   "display_name": "Python 3 (ipykernel)",
   "language": "python",
   "name": "python3"
  },
  "language_info": {
   "codemirror_mode": {
    "name": "ipython",
    "version": 3
   },
   "file_extension": ".py",
   "mimetype": "text/x-python",
   "name": "python",
   "nbconvert_exporter": "python",
   "pygments_lexer": "ipython3",
   "version": "3.9.13"
  }
 },
 "nbformat": 4,
 "nbformat_minor": 5
}
